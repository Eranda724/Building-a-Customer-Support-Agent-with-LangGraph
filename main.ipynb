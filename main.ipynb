{
 "cells": [
  {
   "cell_type": "code",
   "execution_count": 1,
   "id": "8dbe5f9e",
   "metadata": {},
   "outputs": [
    {
     "name": "stdout",
     "output_type": "stream",
     "text": [
      "Requirement already satisfied: langchain_core in c:\\users\\erand\\appdata\\local\\programs\\python\\python310\\lib\\site-packages (0.3.67)\n",
      "Requirement already satisfied: langchain_groq in c:\\users\\erand\\appdata\\local\\programs\\python\\python310\\lib\\site-packages (0.2.1)\n",
      "Requirement already satisfied: langchain_community in c:\\users\\erand\\appdata\\local\\programs\\python\\python310\\lib\\site-packages (0.3.20)\n",
      "Requirement already satisfied: langgraph in c:\\users\\erand\\appdata\\local\\programs\\python\\python310\\lib\\site-packages (0.5.0)\n",
      "Requirement already satisfied: langsmith>=0.3.45 in c:\\users\\erand\\appdata\\local\\programs\\python\\python310\\lib\\site-packages (from langchain_core) (0.3.45)\n",
      "Requirement already satisfied: tenacity!=8.4.0,<10.0.0,>=8.1.0 in c:\\users\\erand\\appdata\\local\\programs\\python\\python310\\lib\\site-packages (from langchain_core) (8.5.0)\n",
      "Requirement already satisfied: jsonpatch<2.0,>=1.33 in c:\\users\\erand\\appdata\\local\\programs\\python\\python310\\lib\\site-packages (from langchain_core) (1.33)\n",
      "Requirement already satisfied: PyYAML>=5.3 in c:\\users\\erand\\appdata\\local\\programs\\python\\python310\\lib\\site-packages (from langchain_core) (6.0.2)\n",
      "Requirement already satisfied: packaging<25,>=23.2 in c:\\users\\erand\\appdata\\local\\programs\\python\\python310\\lib\\site-packages (from langchain_core) (24.2)\n",
      "Requirement already satisfied: typing-extensions>=4.7 in c:\\users\\erand\\appdata\\local\\programs\\python\\python310\\lib\\site-packages (from langchain_core) (4.12.2)\n",
      "Requirement already satisfied: pydantic>=2.7.4 in c:\\users\\erand\\appdata\\local\\programs\\python\\python310\\lib\\site-packages (from langchain_core) (2.10.6)\n",
      "Requirement already satisfied: jsonpointer>=1.9 in c:\\users\\erand\\appdata\\local\\programs\\python\\python310\\lib\\site-packages (from jsonpatch<2.0,>=1.33->langchain_core) (3.0.0)\n",
      "Requirement already satisfied: groq<1,>=0.4.1 in c:\\users\\erand\\appdata\\local\\programs\\python\\python310\\lib\\site-packages (from langchain_groq) (0.29.0)\n",
      "Requirement already satisfied: anyio<5,>=3.5.0 in c:\\users\\erand\\appdata\\local\\programs\\python\\python310\\lib\\site-packages (from groq<1,>=0.4.1->langchain_groq) (4.7.0)\n",
      "Requirement already satisfied: distro<2,>=1.7.0 in c:\\users\\erand\\appdata\\local\\programs\\python\\python310\\lib\\site-packages (from groq<1,>=0.4.1->langchain_groq) (1.9.0)\n",
      "Requirement already satisfied: httpx<1,>=0.23.0 in c:\\users\\erand\\appdata\\local\\programs\\python\\python310\\lib\\site-packages (from groq<1,>=0.4.1->langchain_groq) (0.27.2)\n",
      "Requirement already satisfied: sniffio in c:\\users\\erand\\appdata\\local\\programs\\python\\python310\\lib\\site-packages (from groq<1,>=0.4.1->langchain_groq) (1.3.1)\n",
      "Requirement already satisfied: exceptiongroup>=1.0.2 in c:\\users\\erand\\appdata\\roaming\\python\\python310\\site-packages (from anyio<5,>=3.5.0->groq<1,>=0.4.1->langchain_groq) (1.2.2)\n",
      "Requirement already satisfied: idna>=2.8 in c:\\users\\erand\\appdata\\local\\programs\\python\\python310\\lib\\site-packages (from anyio<5,>=3.5.0->groq<1,>=0.4.1->langchain_groq) (3.10)\n",
      "Requirement already satisfied: certifi in c:\\users\\erand\\appdata\\local\\programs\\python\\python310\\lib\\site-packages (from httpx<1,>=0.23.0->groq<1,>=0.4.1->langchain_groq) (2024.8.30)\n",
      "Requirement already satisfied: httpcore==1.* in c:\\users\\erand\\appdata\\local\\programs\\python\\python310\\lib\\site-packages (from httpx<1,>=0.23.0->groq<1,>=0.4.1->langchain_groq) (1.0.7)\n",
      "Requirement already satisfied: h11<0.15,>=0.13 in c:\\users\\erand\\appdata\\local\\programs\\python\\python310\\lib\\site-packages (from httpcore==1.*->httpx<1,>=0.23.0->groq<1,>=0.4.1->langchain_groq) (0.14.0)\n",
      "Requirement already satisfied: annotated-types>=0.6.0 in c:\\users\\erand\\appdata\\local\\programs\\python\\python310\\lib\\site-packages (from pydantic>=2.7.4->langchain_core) (0.7.0)\n",
      "Requirement already satisfied: pydantic-core==2.27.2 in c:\\users\\erand\\appdata\\local\\programs\\python\\python310\\lib\\site-packages (from pydantic>=2.7.4->langchain_core) (2.27.2)\n",
      "Requirement already satisfied: langchain<1.0.0,>=0.3.21 in c:\\users\\erand\\appdata\\local\\programs\\python\\python310\\lib\\site-packages (from langchain_community) (0.3.21)\n",
      "Requirement already satisfied: SQLAlchemy<3,>=1.4 in c:\\users\\erand\\appdata\\local\\programs\\python\\python310\\lib\\site-packages (from langchain_community) (2.0.41)\n",
      "Requirement already satisfied: requests<3,>=2 in c:\\users\\erand\\appdata\\local\\programs\\python\\python310\\lib\\site-packages (from langchain_community) (2.32.4)\n",
      "Requirement already satisfied: aiohttp<4.0.0,>=3.8.3 in c:\\users\\erand\\appdata\\local\\programs\\python\\python310\\lib\\site-packages (from langchain_community) (3.10.11)\n",
      "Requirement already satisfied: dataclasses-json<0.7,>=0.5.7 in c:\\users\\erand\\appdata\\local\\programs\\python\\python310\\lib\\site-packages (from langchain_community) (0.6.7)\n",
      "Requirement already satisfied: pydantic-settings<3.0.0,>=2.4.0 in c:\\users\\erand\\appdata\\local\\programs\\python\\python310\\lib\\site-packages (from langchain_community) (2.7.0)\n",
      "Requirement already satisfied: httpx-sse<1.0.0,>=0.4.0 in c:\\users\\erand\\appdata\\local\\programs\\python\\python310\\lib\\site-packages (from langchain_community) (0.4.0)\n",
      "Requirement already satisfied: numpy<3,>=1.26.2 in c:\\users\\erand\\appdata\\local\\programs\\python\\python310\\lib\\site-packages (from langchain_community) (1.26.4)\n",
      "Requirement already satisfied: aiohappyeyeballs>=2.3.0 in c:\\users\\erand\\appdata\\local\\programs\\python\\python310\\lib\\site-packages (from aiohttp<4.0.0,>=3.8.3->langchain_community) (2.4.4)\n",
      "Requirement already satisfied: aiosignal>=1.1.2 in c:\\users\\erand\\appdata\\local\\programs\\python\\python310\\lib\\site-packages (from aiohttp<4.0.0,>=3.8.3->langchain_community) (1.3.2)\n",
      "Requirement already satisfied: attrs>=17.3.0 in c:\\users\\erand\\appdata\\local\\programs\\python\\python310\\lib\\site-packages (from aiohttp<4.0.0,>=3.8.3->langchain_community) (25.3.0)\n",
      "Requirement already satisfied: frozenlist>=1.1.1 in c:\\users\\erand\\appdata\\local\\programs\\python\\python310\\lib\\site-packages (from aiohttp<4.0.0,>=3.8.3->langchain_community) (1.5.0)\n",
      "Requirement already satisfied: multidict<7.0,>=4.5 in c:\\users\\erand\\appdata\\local\\programs\\python\\python310\\lib\\site-packages (from aiohttp<4.0.0,>=3.8.3->langchain_community) (6.1.0)\n",
      "Requirement already satisfied: yarl<2.0,>=1.12.0 in c:\\users\\erand\\appdata\\local\\programs\\python\\python310\\lib\\site-packages (from aiohttp<4.0.0,>=3.8.3->langchain_community) (1.18.3)\n",
      "Requirement already satisfied: async-timeout<6.0,>=4.0 in c:\\users\\erand\\appdata\\local\\programs\\python\\python310\\lib\\site-packages (from aiohttp<4.0.0,>=3.8.3->langchain_community) (4.0.3)\n",
      "Requirement already satisfied: marshmallow<4.0.0,>=3.18.0 in c:\\users\\erand\\appdata\\local\\programs\\python\\python310\\lib\\site-packages (from dataclasses-json<0.7,>=0.5.7->langchain_community) (3.23.2)\n",
      "Requirement already satisfied: typing-inspect<1,>=0.4.0 in c:\\users\\erand\\appdata\\local\\programs\\python\\python310\\lib\\site-packages (from dataclasses-json<0.7,>=0.5.7->langchain_community) (0.9.0)\n",
      "Requirement already satisfied: langchain-text-splitters<1.0.0,>=0.3.7 in c:\\users\\erand\\appdata\\local\\programs\\python\\python310\\lib\\site-packages (from langchain<1.0.0,>=0.3.21->langchain_community) (0.3.8)\n",
      "Requirement already satisfied: orjson<4.0.0,>=3.9.14 in c:\\users\\erand\\appdata\\local\\programs\\python\\python310\\lib\\site-packages (from langsmith>=0.3.45->langchain_core) (3.10.15)\n",
      "Requirement already satisfied: requests-toolbelt<2.0.0,>=1.0.0 in c:\\users\\erand\\appdata\\local\\programs\\python\\python310\\lib\\site-packages (from langsmith>=0.3.45->langchain_core) (1.0.0)\n",
      "Requirement already satisfied: zstandard<0.24.0,>=0.23.0 in c:\\users\\erand\\appdata\\local\\programs\\python\\python310\\lib\\site-packages (from langsmith>=0.3.45->langchain_core) (0.23.0)\n",
      "Requirement already satisfied: python-dotenv>=0.21.0 in c:\\users\\erand\\appdata\\local\\programs\\python\\python310\\lib\\site-packages (from pydantic-settings<3.0.0,>=2.4.0->langchain_community) (1.0.1)\n",
      "Requirement already satisfied: charset_normalizer<4,>=2 in c:\\users\\erand\\appdata\\local\\programs\\python\\python310\\lib\\site-packages (from requests<3,>=2->langchain_community) (3.4.0)\n",
      "Requirement already satisfied: urllib3<3,>=1.21.1 in c:\\users\\erand\\appdata\\local\\programs\\python\\python310\\lib\\site-packages (from requests<3,>=2->langchain_community) (2.2.3)\n",
      "Requirement already satisfied: greenlet>=1 in c:\\users\\erand\\appdata\\local\\programs\\python\\python310\\lib\\site-packages (from SQLAlchemy<3,>=1.4->langchain_community) (3.1.1)\n",
      "Requirement already satisfied: mypy-extensions>=0.3.0 in c:\\users\\erand\\appdata\\local\\programs\\python\\python310\\lib\\site-packages (from typing-inspect<1,>=0.4.0->dataclasses-json<0.7,>=0.5.7->langchain_community) (1.0.0)\n",
      "Requirement already satisfied: propcache>=0.2.0 in c:\\users\\erand\\appdata\\local\\programs\\python\\python310\\lib\\site-packages (from yarl<2.0,>=1.12.0->aiohttp<4.0.0,>=3.8.3->langchain_community) (0.2.1)\n",
      "Requirement already satisfied: langgraph-checkpoint>=2.1.0 in c:\\users\\erand\\appdata\\local\\programs\\python\\python310\\lib\\site-packages (from langgraph) (2.1.0)\n",
      "Requirement already satisfied: langgraph-prebuilt>=0.5.0 in c:\\users\\erand\\appdata\\local\\programs\\python\\python310\\lib\\site-packages (from langgraph) (0.5.2)\n",
      "Requirement already satisfied: langgraph-sdk>=0.1.42 in c:\\users\\erand\\appdata\\local\\programs\\python\\python310\\lib\\site-packages (from langgraph) (0.1.72)\n",
      "Requirement already satisfied: xxhash>=3.5.0 in c:\\users\\erand\\appdata\\local\\programs\\python\\python310\\lib\\site-packages (from langgraph) (3.5.0)\n",
      "Requirement already satisfied: ormsgpack>=1.10.0 in c:\\users\\erand\\appdata\\local\\programs\\python\\python310\\lib\\site-packages (from langgraph-checkpoint>=2.1.0->langgraph) (1.10.0)\n"
     ]
    }
   ],
   "source": [
    "!pip install langchain_core langchain_groq langchain_community langgraph"
   ]
  },
  {
   "cell_type": "code",
   "execution_count": 3,
   "id": "66f7c46f",
   "metadata": {},
   "outputs": [],
   "source": [
    "from typing import TypedDict, Dict\n",
    "from langgraph.graph import StateGraph, END\n",
    "from langchain_core.prompts import ChatPromptTemplate\n",
    "from langchain_core.runnables.graph import MermaidDrawMethod"
   ]
  },
  {
   "cell_type": "code",
   "execution_count": 4,
   "id": "d4200b40",
   "metadata": {},
   "outputs": [],
   "source": [
    "class State(TypedDict):\n",
    "    query: str\n",
    "    category: str\n",
    "    sentiment: str\n",
    "    response: str"
   ]
  },
  {
   "cell_type": "code",
   "execution_count": 8,
   "id": "977946a2",
   "metadata": {},
   "outputs": [
    {
     "data": {
      "text/plain": [
       "'LLM stands for Large Language Model. It refers to a type of artificial intelligence (AI) designed to process and understand human language. LLMs are trained on vast amounts of text data, which enables them to learn patterns, relationships, and structures of language.\\n\\nLarge Language Models are a subset of natural language processing (NLP) and have various applications, including:\\n\\n1. **Text generation**: LLMs can create coherent and context-specific text based on a given prompt or input.\\n2. **Language translation**: They can translate text from one language to another, often with high accuracy.\\n3. **Text summarization**: LLMs can summarize long pieces of text into concise, meaningful summaries.\\n4. **Chatbots and conversational AI**: They power chatbots, virtual assistants, and other conversational systems that interact with humans.\\n5. **Sentiment analysis**: LLMs can analyze text to determine the sentiment, emotion, or tone behind it.\\n\\nThe key characteristics of LLMs include:\\n\\n* **Scalability**: They are trained on massive datasets, often billions of parameters strong.\\n* **Complexity**: LLMs have intricate architectures, such as transformer models, that allow them to capture nuanced language patterns.\\n* **Contextual understanding**: They can comprehend context, ambiguity, and subtlety in language, making them more effective in various applications.\\n\\nExamples of LLMs include transformer-based models like BERT, RoBERTa, and transformer-XL, as well as other architectures like recurrent neural networks (RNNs) and long short-term memory (LSTM) networks.\\n\\nI hope this helps! Do you have any specific questions about LLMs or their applications?'"
      ]
     },
     "execution_count": 8,
     "metadata": {},
     "output_type": "execute_result"
    }
   ],
   "source": [
    "from langchain_groq import ChatGroq\n",
    "\n",
    "llm = ChatGroq(\n",
    "    temperature=0.7,\n",
    "    groq_api_key = \"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\",\n",
    "    model = \"llama-3.3-70b-versatile\"\n",
    ")\n",
    "\n",
    "result = llm.invoke(\"What is llm?\")\n",
    "result.content"
   ]
  },
  {
   "cell_type": "code",
   "execution_count": null,
   "id": "6c48f4e5",
   "metadata": {},
   "outputs": [],
   "source": [
    "def categorize(state: State) -> State:\n",
    "    \"billing, technical, general\"\n",
    "\n",
    "    prompt = ChatPromptTemplate.from_template(\n",
    "        \"Categorize the following customer query into one of the followin g categories: \"\n",
    "        \"Technocal, Billing, General. Query: {query}.  \"\n",
    "    )\n",
    "    chain = prompt | llm\n",
    "    category = chain.invoke({\"query\": state[\"query\"]}).content\n",
    "    return {\"category\", category}\n",
    "\n",
    "def analyze_sentiment(state: State) -> State:\n",
    "    prompt = ChatPromptTemplate.from_template( "
   ]
  }
 ],
 "metadata": {
  "kernelspec": {
   "display_name": "Python 3",
   "language": "python",
   "name": "python3"
  },
  "language_info": {
   "codemirror_mode": {
    "name": "ipython",
    "version": 3
   },
   "file_extension": ".py",
   "mimetype": "text/x-python",
   "name": "python",
   "nbconvert_exporter": "python",
   "pygments_lexer": "ipython3",
   "version": "3.10.7"
  }
 },
 "nbformat": 4,
 "nbformat_minor": 5
}
